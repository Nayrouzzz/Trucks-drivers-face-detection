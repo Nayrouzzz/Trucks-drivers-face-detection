{
  "cells": [
    {
      "cell_type": "code",
      "execution_count": null,
      "metadata": {
        "id": "nWcWZAJL3WmB"
      },
      "outputs": [],
      "source": [
        "from google.colab import drive\n",
        "drive.mount('/content/drive')\n"
      ]
    },
    {
      "cell_type": "code",
      "execution_count": null,
      "metadata": {
        "id": "UsD4_lw63g7K"
      },
      "outputs": [],
      "source": [
        "%cd /content/drive/MyDrive/yolo5"
      ]
    },
    {
      "cell_type": "code",
      "execution_count": null,
      "metadata": {
        "id": "ZsJBNT_I3qS5"
      },
      "outputs": [],
      "source": [
        "# !git clone https://github.com/ultralytics/yolov5  # clone \n",
        "'''Cloned the repo on the driver so it will be easier everytime i run the notebook'''\n"
      ]
    },
    {
      "cell_type": "code",
      "execution_count": null,
      "metadata": {
        "id": "sN5Ssfab0TXz"
      },
      "outputs": [],
      "source": [
        "%cd yolov5\n",
        "!pip install -U -r requirements.txt\n",
        "import torch\n",
        "\n",
        "from IPython.display import Image, clear_output  # to display images\n",
        "from utils.downloads import attempt_download  # to download models/datasets\n",
        "\n",
        "# clear_output()\n",
        "print('Setup complete. Using torch %s %s' % (torch.__version__, torch.cuda.get_device_properties(0) if torch.cuda.is_available() else 'CPU'))"
      ]
    },
    {
      "cell_type": "code",
      "execution_count": null,
      "metadata": {
        "id": "qIW2yLc8t9lB"
      },
      "outputs": [],
      "source": [
        "# Uploaded the labeled data the unzipped it ✅✅\n",
        "\n",
        "!unzip -q /content/train_data.zip -d ../"
      ]
    },
    {
      "cell_type": "code",
      "execution_count": null,
      "metadata": {
        "id": "HgIpQR41Dt-f"
      },
      "outputs": [],
      "source": [
        "#TRain the model Done ✅✅\n",
        "\n",
        "!python /content/yolov5/train.py --weights yolov5s.pt --img 640 --batch 10 --epochs 160 --data /content/yolov5/data/coco128Customized.yaml --nosave --cache \n"
      ]
    },
    {
      "cell_type": "code",
      "execution_count": null,
      "metadata": {
        "id": "a_U6kt0Lkkmt"
      },
      "outputs": [],
      "source": [
        "!unzip -q /content/test.zip -d ../ #unzip uploaded test data"
      ]
    },
    {
      "cell_type": "code",
      "execution_count": null,
      "metadata": {
        "id": "ZWbyGP2XT-VZ"
      },
      "outputs": [],
      "source": [
        "!python detect.py --weights /content/drive/MyDrive/yolo5/weights/best.pt --save-crop --img 640 --conf 0.28 --source /content/drive/MyDrive/yolo5/test\n"
      ]
    },
    {
      "cell_type": "code",
      "execution_count": null,
      "metadata": {
        "id": "tZHRypz2JweK"
      },
      "outputs": [],
      "source": [
        "!python detect.py  --save-crop  --source /content/drive/MyDrive/test #crop any detected category from detect.py file\n"
      ]
    },
    {
      "cell_type": "code",
      "execution_count": null,
      "metadata": {
        "id": "MKMXYheX-gE6"
      },
      "outputs": [],
      "source": [
        "import cv2\n",
        "# python -m pip uninstall matplotlib\n",
        "# pip install matplotlib==3.1.3\n",
        "%matplotlib inline\n",
        "import matplotlib.pyplot as plt\n"
      ]
    },
    {
      "attachments": {},
      "cell_type": "markdown",
      "metadata": {
        "id": "j3aAflqBfXPI"
      },
      "source": [
        "***function to grab and plot al detected images***"
      ]
    },
    {
      "cell_type": "code",
      "execution_count": null,
      "metadata": {
        "id": "cqepapGUMTWS"
      },
      "outputs": [],
      "source": [
        "import os\n",
        "  \n",
        "rows = 3\n",
        "columns = 3\n",
        "fig = plt.gcf()\n",
        "fig = plt.figure(figsize=(55, 48))\n",
        "plt.axis(\"off\")\n",
        "\n",
        "# Get the list of all files and directories\n",
        "\n",
        "path = \"/content/drive/MyDrive/yolo5/yolov5/runs/detect/exp7\" #it changes depending on which exp the detected images were saved\n",
        "dir_list = os.listdir(path) #gives alist of all images names in this directory \n",
        "newlist = [file for file in dir_list if file[-3:] == 'jpg' or file[-3:] == 'png'] #list if files are JPGs\n",
        "\n",
        "for i in range(len(newlist)):\n",
        "  imagelist= [cv2.imread(\"/content/drive/MyDrive/yolo5/yolov5/runs/detect/exp7/{}\".format(newlist[i])) for i in range(len(newlist))] #list of images we did read by their paths in opencv\n",
        "  fig.add_subplot(rows, columns, i+1) \n",
        "  plt.imshow(cv2.cvtColor(imagelist[i], cv2.COLOR_BGR2RGB))\n",
        "\n",
        "plt.show()\n",
        "\n"
      ]
    },
    {
      "cell_type": "code",
      "execution_count": null,
      "metadata": {
        "id": "d21wRkeMRw45"
      },
      "outputs": [],
      "source": [
        "xyxy=[260,251,375,320]"
      ]
    },
    {
      "cell_type": "code",
      "execution_count": null,
      "metadata": {
        "id": "qeOHsCHyChr8"
      },
      "outputs": [],
      "source": [
        "img = cv2.imread(\"/content/drive/MyDrive/yolo5/test/10.jpg\") #pick an image from detected images\n",
        "# img.shape\n"
      ]
    },
    {
      "cell_type": "code",
      "execution_count": null,
      "metadata": {
        "id": "V7EMC243-kec"
      },
      "outputs": [],
      "source": [
        "import cv2\n",
        "import numpy as np\n",
        "\n",
        "img = cv2.imread(\"/content/drive/MyDrive/yolo5/test/10.jpg\") #pick an image from detected images\n",
        "blurred_img = cv2.GaussianBlur(img, (21, 21), 0)\n",
        "\n",
        "mask = np.zeros((553, 446, 3), dtype=np.uint8)\n",
        "mask = cv2.rectangle(mask, (260,251), (375,320), (255, 255, 255), -1)\n",
        "\n",
        "out = np.where(mask==(255, 255, 255), img, blurred_img)\n",
        "\n",
        "cv2.imwrite(\"/content/drive/MyDrive/yolo5/results/out.png\", out) #save the png in the results dir\n",
        "\n"
      ]
    },
    {
      "cell_type": "code",
      "execution_count": null,
      "metadata": {
        "id": "HW5icqi8C4C0"
      },
      "outputs": [],
      "source": [
        "[tensor(260., device='cuda:0'), tensor(251., device='cuda:0'), tensor(375., device='cuda:0'), tensor(320., device='cuda:0')]\n"
      ]
    },
    {
      "cell_type": "code",
      "execution_count": null,
      "metadata": {
        "id": "UmFVcP6QnDoj"
      },
      "outputs": [],
      "source": [
        "!python detect.py  --save-crop #crop any detected category from detect.py file\n"
      ]
    },
    {
      "attachments": {},
      "cell_type": "markdown",
      "metadata": {
        "id": "tAJ-ydBQfo61"
      },
      "source": []
    },
    {
      "attachments": {},
      "cell_type": "markdown",
      "metadata": {
        "id": "-U1UjAICfphj"
      },
      "source": [
        "***another method to grab and plot all cropped 'driver' category images***"
      ]
    },
    {
      "cell_type": "code",
      "execution_count": null,
      "metadata": {
        "id": "Ando3hdZnEd1"
      },
      "outputs": [],
      "source": [
        "#crop driver ALL\n",
        "import os\n",
        "  \n",
        "# Get the list of all files and directories\n",
        "path_driver = \"/content/drive/MyDrive/yolo5/yolov5/runs/detect/exp7/crops/driver\" #check the path everytime\n",
        "driver_directory = os.listdir(path_driver) #gives alist of all images names in this directory \n",
        "\n",
        "\n",
        "\n",
        "rows = 3\n",
        "columns = 3\n",
        "fig = plt.gcf()\n",
        "fig = plt.figure(figsize=(15, 10))\n",
        "plt.axis(\"off\")\n",
        "\n",
        "for j in range(len(driver_directory)):\n",
        "  crop_driver_list = [cv2.imread(\"//content/drive/MyDrive/yolo5/yolov5/runs/detect/exp7/crops/driver{}\".format(driver_directory[j])) for j in range(len(driver_directory))] #list of images we did read by their paths\n",
        "  fig.add_subplot(rows, columns, j+1) \n",
        "  plt.imshow(cv2.cvtColor(crop_driver_list[0], cv2.COLOR_BGR2RGB))\n",
        "plt.show()\n",
        "\n"
      ]
    },
    {
      "attachments": {},
      "cell_type": "markdown",
      "metadata": {
        "id": "0vO882rbfw4O"
      },
      "source": []
    },
    {
      "attachments": {},
      "cell_type": "markdown",
      "metadata": {
        "id": "GrKVJWiXfxQy"
      },
      "source": [
        "***function to grab and plot all blurred/anonmized driver images by kernels***"
      ]
    }
  ],
  "metadata": {
    "accelerator": "GPU",
    "colab": {
      "collapsed_sections": [],
      "private_outputs": true,
      "provenance": []
    },
    "gpuClass": "standard",
    "kernelspec": {
      "display_name": "Python 3",
      "name": "python3"
    },
    "language_info": {
      "name": "python"
    }
  },
  "nbformat": 4,
  "nbformat_minor": 0
}
